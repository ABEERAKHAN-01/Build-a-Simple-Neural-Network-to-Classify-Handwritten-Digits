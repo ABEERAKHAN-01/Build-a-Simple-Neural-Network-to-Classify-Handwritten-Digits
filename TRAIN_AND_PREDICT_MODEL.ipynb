{
  "cells": [
    {
      "cell_type": "markdown",
      "metadata": {
        "id": "view-in-github",
        "colab_type": "text"
      },
      "source": [
        "<a href=\"https://colab.research.google.com/github/ABEERAKHAN-01/Build-a-Simple-Neural-Network-to-Classify-Handwritten-Digits/blob/main/TRAIN_AND_PREDICT_MODEL.ipynb\" target=\"_parent\"><img src=\"https://colab.research.google.com/assets/colab-badge.svg\" alt=\"Open In Colab\"/></a>"
      ]
    },
    {
      "cell_type": "code",
      "source": [
        "import gradio as gr\n",
        "import numpy as np\n",
        "import tensorflow as tf\n",
        "from tensorflow import keras\n",
        "from tensorflow.keras import layers\n",
        "import time\n",
        "\n",
        "def train_and_predict_model(progress=gr.Progress(track_tqdm=True)):\n",
        "    try:\n",
        "        # Load and preprocess MNIST dataset\n",
        "        progress(0, desc=\"Loading MNIST dataset...\")\n",
        "        (x_train, y_train), (x_test, y_test) = keras.datasets.mnist.load_data()\n",
        "        x_train = x_train.astype(\"float32\") / 255.0\n",
        "        x_test = x_test.astype(\"float32\") / 255.0\n",
        "        x_train_flat = x_train.reshape(x_train.shape[0], 28 * 28)\n",
        "        x_test_flat = x_test.reshape(x_test.shape[0], 28 * 28)\n",
        "\n",
        "        # Build and compile the model\n",
        "        progress(0.2, desc=\"Building and compiling model...\")\n",
        "        model = keras.Sequential([\n",
        "            layers.Dense(256, activation=\"relu\", name=\"layer1\", input_shape=(784,)),\n",
        "            layers.Dense(128, activation=\"relu\", name=\"layer2\"),\n",
        "            layers.Dense(10, activation=\"softmax\", name=\"layer3\"),\n",
        "        ])\n",
        "        model.compile(\n",
        "            loss=\"sparse_categorical_crossentropy\",\n",
        "            optimizer=keras.optimizers.Adam(1e-3),\n",
        "            metrics=[\"accuracy\"],\n",
        "        )\n",
        "\n",
        "        # Train the model\n",
        "        progress(0.4, desc=\"Training model...\")\n",
        "        model.fit(\n",
        "            x_train_flat, y_train,\n",
        "            validation_split=0.1,\n",
        "            epochs=5,\n",
        "            batch_size=128,\n",
        "            verbose=0  # Set verbose to 0 to avoid console output flooding\n",
        "        )\n",
        "        #saving model\n",
        "\n",
        "        # This is the line to change\n",
        "        model.save(\"mnist_dense.keras\")\n",
        "\n",
        "        # Generate predictions and prepare images for gallery\n",
        "        progress(0.8, desc=\"Generating predictions...\")\n",
        "        num_examples = 10\n",
        "        indices = np.random.choice(len(x_test), size=num_examples, replace=False)\n",
        "        pred_probs = model.predict(x_test_flat[indices], verbose=0)\n",
        "        pred_labels = np.argmax(pred_probs, axis=1)\n",
        "\n",
        "        images_with_labels = []\n",
        "        for i, idx in enumerate(indices):\n",
        "            image = x_test[idx]  # This is a numpy array, which is correct for Gradio\n",
        "            predicted_label = pred_labels[i]\n",
        "            true_label = y_test[idx]\n",
        "            label = f\"Pred: {predicted_label} | True: {true_label}\"\n",
        "            images_with_labels.append((image, label))\n",
        "\n",
        "        # Return the final status and the image gallery content\n",
        "        return \"Training and prediction complete.\", images_with_labels\n",
        "\n",
        "    except Exception as e:\n",
        "        # If an error occurs, return the error message\n",
        "        return f\"An error occurred: {e}\", None\n",
        "\n",
        "# Gradio Blocks interface\n",
        "with gr.Blocks(title=\"MNIST Training & Prediction\") as demo:\n",
        "    gr.Markdown(\"# Model Training and Prediction\")\n",
        "    gr.Markdown(\"Click the button to train a simple neural network and see its predictions on the MNIST dataset.\")\n",
        "\n",
        "    run_button = gr.Button(\"Train and Predict\")\n",
        "\n",
        "    status_text = gr.Textbox(label=\"Status\")\n",
        "    output_gallery = gr.Gallery(label=\"Predictions\", preview=True, columns=5, rows=2, object_fit=\"contain\", height=\"auto\")\n",
        "\n",
        "    # The click method now has two outputs\n",
        "    run_button.click(\n",
        "        fn=train_and_predict_model,\n",
        "        inputs=None,\n",
        "        outputs=[status_text, output_gallery]\n",
        "    )\n",
        "demo.launch(share=True)"
      ],
      "metadata": {
        "id": "SyZJ9JG5FrPa"
      },
      "execution_count": null,
      "outputs": []
    }
  ],
  "metadata": {
    "colab": {
      "provenance": [],
      "include_colab_link": true
    },
    "kernelspec": {
      "display_name": "Python 3",
      "name": "python3"
    }
  },
  "nbformat": 4,
  "nbformat_minor": 0
}