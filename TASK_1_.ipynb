{
  "nbformat": 4,
  "nbformat_minor": 0,
  "metadata": {
    "colab": {
      "provenance": []
    },
    "kernelspec": {
      "name": "python3",
      "display_name": "Python 3"
    },
    "language_info": {
      "name": "python"
    }
  },
  "cells": [
    {
      "cell_type": "markdown",
      "source": [
        "***IMPORTING NECESSARY LIBRARIES***"
      ],
      "metadata": {
        "id": "B3dM3HlT3d9T"
      }
    },
    {
      "cell_type": "code",
      "source": [
        "# Installing dependencies\n",
        "!pip install -q tensorflow matplotlib numpy\n",
        "\n",
        "import numpy as np\n",
        "import matplotlib.pyplot as plt\n",
        "import tensorflow as tf\n",
        "from tensorflow import keras\n",
        "from tensorflow.keras import layers\n",
        "\n",
        "print(\"TensorFlow version:\", tf.__version__)\n"
      ],
      "metadata": {
        "id": "SjMUcTUP6VeG"
      },
      "execution_count": null,
      "outputs": []
    },
    {
      "cell_type": "markdown",
      "source": [
        "***LOADING \"MNIST\" DATASET***"
      ],
      "metadata": {
        "id": "75FKOPYY4JE4"
      }
    },
    {
      "cell_type": "code",
      "source": [
        "# Load and preprocess MNIST\n",
        "(x_train, y_train), (x_test, y_test) = keras.datasets.mnist.load_data()\n",
        "\n",
        "# Normalize to [0, 1]\n",
        "x_train = x_train.astype(\"float32\") / 255.0\n",
        "x_test = x_test.astype(\"float32\") / 255.0\n",
        "\n",
        "# Flatten images: 28x28 -> 784\n",
        "x_train_flat = x_train.reshape((x_train.shape[0], 784))\n",
        "x_test_flat  = x_test.reshape((x_test.shape[0], 784))\n",
        "\n",
        "print(\"Train shape (flat):\", x_train_flat.shape)\n",
        "print(\"Test shape  (flat):\", x_test_flat.shape)\n"
      ],
      "metadata": {
        "id": "t2lG9-aC6kaf"
      },
      "execution_count": null,
      "outputs": []
    },
    {
      "cell_type": "markdown",
      "source": [
        "***BUILDING DENSE MODEL***"
      ],
      "metadata": {
        "id": "szNpgSFYt-Qr"
      }
    },
    {
      "cell_type": "code",
      "source": [
        "# Build the model\n",
        "model = keras.Sequential([\n",
        "    layers.Input(shape=(784,)),\n",
        "    layers.Dense(256, activation=\"relu\"),\n",
        "    layers.Dense(128, activation=\"relu\"),\n",
        "    layers.Dense(10, activation=\"softmax\"),\n",
        "])\n",
        "\n",
        "model.compile(\n",
        "    optimizer=keras.optimizers.Adam(1e-3),\n",
        "    loss=\"sparse_categorical_crossentropy\",\n",
        "    metrics=[\"accuracy\"],\n",
        ")\n",
        "\n",
        "model.summary()\n"
      ],
      "metadata": {
        "id": "V5yt30bn6qug"
      },
      "execution_count": null,
      "outputs": []
    },
    {
      "cell_type": "markdown",
      "source": [
        "***TRAINING MODEL ON \"MNIST\" DATASET***"
      ],
      "metadata": {
        "id": "1zyqENkwuLvq"
      }
    },
    {
      "cell_type": "code",
      "source": [
        "# Train the model\n",
        "history = model.fit(\n",
        "    x_train_flat, y_train,\n",
        "    validation_split=0.1,\n",
        "    epochs=5,\n",
        "    batch_size=128,\n",
        "    verbose=1\n",
        ")\n",
        "\n",
        "# Evaluate\n",
        "test_loss, test_acc = model.evaluate(x_test_flat, y_test, verbose=0)\n",
        "print(f\"Test accuracy: {test_acc:.4f}\")\n"
      ],
      "metadata": {
        "id": "zGNyHVV46wIl"
      },
      "execution_count": null,
      "outputs": []
    },
    {
      "cell_type": "markdown",
      "source": [
        "***PREDICTING RESULT***"
      ],
      "metadata": {
        "id": "2qn5DuGfuSRT"
      }
    },
    {
      "cell_type": "code",
      "source": [
        "# Show predictions\n",
        "num_examples = 10\n",
        "indices = np.random.choice(len(x_test), size=num_examples, replace=False)\n",
        "\n",
        "pred_probs = model.predict(x_test_flat[indices])\n",
        "pred_labels = np.argmax(pred_probs, axis=1)\n",
        "\n",
        "plt.figure(figsize=(12, 3))\n",
        "for i, idx in enumerate(indices):\n",
        "    plt.subplot(1, num_examples, i+1)\n",
        "    plt.imshow(x_test[idx], cmap=plt.cm.binary)\n",
        "    plt.title(f\"pred: {pred_labels[i]}\\ntrue: {y_test[idx]}\")\n",
        "    plt.axis(\"off\")\n",
        "plt.tight_layout()\n",
        "plt.show()\n"
      ],
      "metadata": {
        "id": "hV_DVPRi6-iE"
      },
      "execution_count": null,
      "outputs": []
    },
    {
      "cell_type": "markdown",
      "source": [
        "***TRAINED MODEL IS SAVED***"
      ],
      "metadata": {
        "id": "vbcT8GSvuYyx"
      }
    },
    {
      "cell_type": "code",
      "source": [
        "# Save the trained model\n",
        "model.save(\"mnist_dense.keras\")\n",
        "print(\"Model saved as mnist_dense.keras\")\n"
      ],
      "metadata": {
        "id": "XfsgWdhJ7Prh"
      },
      "execution_count": null,
      "outputs": []
    }
  ]
}